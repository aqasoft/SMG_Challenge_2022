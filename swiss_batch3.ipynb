{
 "cells": [
  {
   "cell_type": "markdown",
   "metadata": {},
   "source": [
    "# Third step SMG data analysis"
   ]
  },
  {
   "cell_type": "markdown",
   "metadata": {},
   "source": [
    "#### A few notes:\n",
    "\n",
    "1. All markdown titles were kept as comments within each code cell.\n",
    "2. At the beginning and at the end of each cell a copy of the dataframe being \n",
    "modified is made in order to allow for several executions of that cell without \n",
    "running the previous part of the ipynb. \n",
    "3. Along the code some data is being stored separately in order to be used \n",
    "in Batch 5 for the plot graphs."
   ]
  },
  {
   "cell_type": "code",
   "execution_count": 54,
   "metadata": {},
   "outputs": [],
   "source": [
    "import pandas as pd\n",
    "import numpy as np\n",
    "import matplotlib as mpl\n",
    "import matplotlib.pyplot as plt \n",
    "plt.style.use('seaborn-colorblind')\n",
    "%matplotlib inline\n",
    "import seaborn as sns\n",
    "import regex as re\n",
    "from Levenshtein import distance as lev\n",
    "from concurrent.futures import ThreadPoolExecutor\n",
    "from dns import resolver\n",
    "import requests\n",
    "import threading\n",
    "from datetime import datetime\n",
    "import pickle\n",
    "\n",
    "# Omitir warnings\n",
    "import warnings\n",
    "warnings.filterwarnings('ignore')"
   ]
  },
  {
   "cell_type": "code",
   "execution_count": 55,
   "metadata": {},
   "outputs": [
    {
     "data": {
      "text/plain": [
       "'2022-09-11 14:34:55.206525'"
      ]
     },
     "execution_count": 55,
     "metadata": {},
     "output_type": "execute_result"
    }
   ],
   "source": [
    "str(datetime.now())"
   ]
  },
  {
   "cell_type": "code",
   "execution_count": 56,
   "metadata": {},
   "outputs": [
    {
     "data": {
      "text/plain": [
       "{'domains_total': 5309,\n",
       " 'domains_MX_false': 1146,\n",
       " 'domains_MX_true': 4163,\n",
       " 'domains_A_false': 992,\n",
       " 'domains_A_true': 4317,\n",
       " 'domains_spam_sink': 91,\n",
       " 'domains_known_sink': 11,\n",
       " 'domains_medium_trust': 595,\n",
       " 'domains_client_trust': 316,\n",
       " 'users_total': 137513,\n",
       " 'users_unique': 99917,\n",
       " 'users_trust_eq1': 82681,\n",
       " 'users_null': 456}"
      ]
     },
     "execution_count": 56,
     "metadata": {},
     "output_type": "execute_result"
    }
   ],
   "source": [
    "with open('dict_graph2.dat', 'rb') as handle:\n",
    "    data = handle.read()\n",
    "dict_temp_graph = pickle.loads(data)\n",
    "dict_temp_graph"
   ]
  },
  {
   "cell_type": "code",
   "execution_count": 57,
   "metadata": {},
   "outputs": [
    {
     "data": {
      "text/plain": [
       "Index(['ID', 'ID_Mail', 'Email', 'Origen_mail', 'ID_Telefono',\n",
       "       'Numero_Completo', 'Origen_telefono'],\n",
       "      dtype='object')"
      ]
     },
     "execution_count": 57,
     "metadata": {},
     "output_type": "execute_result"
    }
   ],
   "source": [
    "# Data read\n",
    "\n",
    "df_data = pd.read_csv('set_smg.csv', encoding='ansi', dtype='object')\n",
    "\n",
    "df_data.columns"
   ]
  },
  {
   "cell_type": "code",
   "execution_count": null,
   "metadata": {},
   "outputs": [],
   "source": [
    "# Data sort\n",
    "\n",
    "df_data.sort_values(by=['ID', 'ID_Telefono', 'Numero_Completo'], inplace=True)\n",
    "\n",
    "# df_data"
   ]
  },
  {
   "cell_type": "code",
   "execution_count": 59,
   "metadata": {},
   "outputs": [],
   "source": [
    "# Phone numbers extraction.\n",
    "\n",
    "df_phone = df_data[['ID', 'ID_Telefono', 'Numero_Completo', 'Origen_telefono']]\n",
    "\n",
    "df_temp_phone = df_phone.copy()"
   ]
  },
  {
   "cell_type": "code",
   "execution_count": null,
   "metadata": {},
   "outputs": [],
   "source": [
    "df_phone = df_temp_phone.copy()\n",
    "\n",
    "# Duplicates removal\n",
    "\n",
    "df_phone.drop_duplicates(keep='first', inplace=True)\n",
    "df_phone.reset_index(drop=True, inplace=True)\n",
    "\n",
    "df_temp_phone = df_phone.copy()\n",
    "\n",
    "# df_phone"
   ]
  },
  {
   "cell_type": "code",
   "execution_count": null,
   "metadata": {},
   "outputs": [],
   "source": [
    "df_phone = df_temp_phone.copy()\n",
    "\n",
    "# Classification in cellular and office numbers. \n",
    "# Office may be cellular too? Doesn't matter.\n",
    "\n",
    "pattern = re.compile(r'(?i)(?P<prefix>^[1-3]\\d{1,3})15(?P<number>\\d+)')\n",
    "\n",
    "# Apply this transformation only to numbers which len is 12\n",
    "matches = df_phone['Numero_Completo'].apply(lambda x: pattern.search(x) \\\n",
    "                                            if len(x)==12 else None)\n",
    "phone_to_call = matches.apply(lambda x: np.nan if x is None else \\\n",
    "                                (x.group('prefix')+x.group('number')))\n",
    "\n",
    "mask = matches.notnull()\n",
    "df_phone.loc[mask, 'cellular'] = 'celular'\n",
    "df_phone.loc[~mask, 'cellular'] = 'oficina/celular'\n",
    "\n",
    "df_phone['phone_to_call'] = phone_to_call\n",
    "df_phone['phone_to_call'].fillna(df_phone.Numero_Completo, inplace=True)\n",
    "\n",
    "df_temp_phone = df_phone.copy()\n",
    "\n",
    "# df_phone"
   ]
  },
  {
   "cell_type": "code",
   "execution_count": 62,
   "metadata": {},
   "outputs": [],
   "source": [
    "df_phone = df_temp_phone.copy()\n",
    "\n",
    "# Finding of 'incorrect' phone numbers (by len) and discard those that match\n",
    "\n",
    "df_phone['phone_to_call'] = df_phone['phone_to_call'].apply(lambda x: \\\n",
    "                                x if len(x)>=10 else '---')\n",
    "\n",
    "df_temp_phone = df_phone.copy()"
   ]
  },
  {
   "cell_type": "code",
   "execution_count": null,
   "metadata": {},
   "outputs": [],
   "source": [
    "df_phone = df_temp_phone.copy()\n",
    "\n",
    "# Ranking of phone numbers by client and (within client)\n",
    "#    contactability = phone number count within client\n",
    "# 1. It assumes that a number with a higher contactability is more likely\n",
    "#    to be correct when it is compared to a similar user (within a client).\n",
    "# 2. If there is only one phone number for one client, its trust is 1. \n",
    "#    This does not imply that the number is incorrect, though it is likely if \n",
    "#    there are numbers users for that client with a higher contactability.\n",
    "# 3. There are users that are at Levinshtein distance of 1 which are \n",
    "#    both valid, so it cannot be assumed that contactability = 1 means\n",
    "#    an incorrect phone number. \n",
    "# 4. Many phone numbers belonging to one client may differ by one or more \n",
    "#    digits and still be correct.\n",
    "\n",
    "df_phone['contactability'] = 0\n",
    "\n",
    "clients_unique = list(df_phone.ID.unique())\n",
    "\n",
    "def hard_work(client, lock):\n",
    "    df_aux = df_phone[df_phone['ID'] == client].copy(deep=False)\n",
    "    for index_2 in df_aux.index:\n",
    "        for index_1 in df_aux.index:\n",
    "            if df_aux.at[index_1, 'phone_to_call'] == \\\n",
    "                    df_aux.at[index_2, 'phone_to_call'] and \\\n",
    "                    index_1 != index_2:\n",
    "                with lock:\n",
    "                    count = df_phone.at[index_1, 'contactability'] + 1\n",
    "                    df_phone.at[index_1, 'contactability'] = count\n",
    "                    df_phone.at[index_2, 'contactability'] = count\n",
    "\n",
    "lock = threading.RLock()\n",
    "futures = [threading.Thread(target=hard_work, args=(client, lock)) \\\n",
    "            for client in clients_unique]\n",
    "print('Wait...')\n",
    "for future in futures:\n",
    "    future.start()\n",
    "for future in futures:\n",
    "    future.join()\n",
    "print('Done!')\n",
    "\n",
    "mask = (df_phone['contactability'] == 0)\n",
    "df_phone['contactability'].mask(mask, 1, inplace=True)\n",
    "mask = (df_phone['phone_to_call'] == '---')\n",
    "df_phone['contactability'].mask(mask, 0, inplace=True)\n",
    "\n",
    "df_temp_phone = df_phone.copy()\n",
    "\n",
    "# df_phone"
   ]
  },
  {
   "cell_type": "code",
   "execution_count": 64,
   "metadata": {},
   "outputs": [
    {
     "data": {
      "text/plain": [
       "{'domains_total': 5309,\n",
       " 'domains_MX_false': 1146,\n",
       " 'domains_MX_true': 4163,\n",
       " 'domains_A_false': 992,\n",
       " 'domains_A_true': 4317,\n",
       " 'domains_spam_sink': 91,\n",
       " 'domains_known_sink': 11,\n",
       " 'domains_medium_trust': 595,\n",
       " 'domains_client_trust': 316,\n",
       " 'users_total': 137513,\n",
       " 'users_unique': 99917,\n",
       " 'users_trust_eq1': 82681,\n",
       " 'users_null': 456,\n",
       " 'phones_total': 278763,\n",
       " 'phones_unique': 164085,\n",
       " 'phones_cellular': 72115,\n",
       " 'phones_trust_eq1': 132106,\n",
       " 'phones_null': 90}"
      ]
     },
     "execution_count": 64,
     "metadata": {},
     "output_type": "execute_result"
    }
   ],
   "source": [
    "dict_graph = dict_temp_graph.copy()\n",
    "\n",
    "# Store graph data\n",
    "\n",
    "dict_graph.update({'phones_total':  len(df_phone.phone_to_call)})\n",
    "dict_graph.update({'phones_unique':  len(df_phone.phone_to_call.unique())})\n",
    "\n",
    "mask = df_phone.cellular == 'celular' \n",
    "dict_graph.update({'phones_cellular':  mask.value_counts()[1]})\n",
    "\n",
    "mask = (df_phone.contactability == 1) \n",
    "dict_graph.update({'phones_trust_eq1':  mask.value_counts()[1]})\n",
    "\n",
    "mask = (df_phone.phone_to_call == '---')\n",
    "dict_graph.update({'phones_null':  mask.value_counts()[1]})\n",
    "\n",
    "dict_temp_graph = dict_graph.copy()\n",
    "\n",
    "dict_graph"
   ]
  },
  {
   "cell_type": "code",
   "execution_count": 65,
   "metadata": {},
   "outputs": [],
   "source": [
    "df_phone.to_csv('df_phones_final.csv')\n",
    "\n",
    "with open(\"dict_graph_final.dat\", \"wb\") as outfile:\n",
    "    pickle.dump(dict_graph, outfile)"
   ]
  },
  {
   "cell_type": "code",
   "execution_count": 66,
   "metadata": {},
   "outputs": [
    {
     "data": {
      "text/plain": [
       "'2022-09-11 15:04:34.551528'"
      ]
     },
     "execution_count": 66,
     "metadata": {},
     "output_type": "execute_result"
    }
   ],
   "source": [
    "str(datetime.now())"
   ]
  }
 ],
 "metadata": {
  "kernelspec": {
   "display_name": "Python 3.10.7 64-bit",
   "language": "python",
   "name": "python3"
  },
  "language_info": {
   "codemirror_mode": {
    "name": "ipython",
    "version": 3
   },
   "file_extension": ".py",
   "mimetype": "text/x-python",
   "name": "python",
   "nbconvert_exporter": "python",
   "pygments_lexer": "ipython3",
   "version": "3.10.7"
  },
  "vscode": {
   "interpreter": {
    "hash": "25c7275b3166bf0c254c0206e674d3db31a932eddaaabc6ffee3aa6de3d85c57"
   }
  }
 },
 "nbformat": 4,
 "nbformat_minor": 4
}
