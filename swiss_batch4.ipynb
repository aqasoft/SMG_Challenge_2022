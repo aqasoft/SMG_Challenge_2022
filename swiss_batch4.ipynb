{
 "cells": [
  {
   "cell_type": "markdown",
   "metadata": {},
   "source": [
    "# Fourth step SMG data analysis"
   ]
  },
  {
   "cell_type": "markdown",
   "metadata": {},
   "source": [
    "#### A few notes:\n",
    "\n",
    "1. All markdown titles were kept as comments within each code cell.\n",
    "2. At the beginning and at the end of each cell a copy of the dataframe being \n",
    "modified is made in order to allow for several executions of that cell without \n",
    "running the previous part of the ipynb. \n",
    "3. Along the code some data is being stored separately in order to be used \n",
    "in Batch 5 for the plot graphs."
   ]
  },
  {
   "cell_type": "code",
   "execution_count": 12,
   "metadata": {},
   "outputs": [],
   "source": [
    "import pandas as pd\n",
    "import numpy as np\n",
    "import matplotlib as mpl\n",
    "import matplotlib.pyplot as plt \n",
    "plt.style.use('seaborn-colorblind')\n",
    "%matplotlib inline\n",
    "import seaborn as sns\n",
    "import regex as re\n",
    "from Levenshtein import distance as lev\n",
    "from concurrent.futures import ThreadPoolExecutor\n",
    "from dns import resolver\n",
    "import requests\n",
    "import threading\n",
    "from datetime import datetime\n",
    "import pickle\n",
    "\n",
    "# Omitir warnings\n",
    "import warnings\n",
    "warnings.filterwarnings('ignore')"
   ]
  },
  {
   "cell_type": "code",
   "execution_count": 13,
   "metadata": {},
   "outputs": [
    {
     "data": {
      "text/plain": [
       "'2022-09-11 15:10:38.367494'"
      ]
     },
     "execution_count": 13,
     "metadata": {},
     "output_type": "execute_result"
    }
   ],
   "source": [
    "str(datetime.now())"
   ]
  },
  {
   "cell_type": "code",
   "execution_count": 14,
   "metadata": {},
   "outputs": [
    {
     "data": {
      "text/plain": [
       "Index(['ID', 'ID_Mail', 'Email', 'Origen_mail', 'ID_Telefono',\n",
       "       'Numero_Completo', 'Origen_telefono'],\n",
       "      dtype='object')"
      ]
     },
     "execution_count": 14,
     "metadata": {},
     "output_type": "execute_result"
    }
   ],
   "source": [
    "# Data read\n",
    "\n",
    "df_data = pd.read_csv('set_smg.csv', encoding='ansi').astype('object')\n",
    "\n",
    "df_data.columns"
   ]
  },
  {
   "cell_type": "code",
   "execution_count": null,
   "metadata": {},
   "outputs": [],
   "source": [
    "# Data sort\n",
    "\n",
    "df_data.sort_values(by=['ID', 'ID_Mail', 'ID_Telefono'], inplace=True)\n",
    "\n",
    "# df_data"
   ]
  },
  {
   "cell_type": "code",
   "execution_count": 16,
   "metadata": {},
   "outputs": [],
   "source": [
    "# Join ID columns setting up\n",
    "\n",
    "df_join = df_data[['ID', 'ID_Mail', 'ID_Telefono']]\n",
    "\n",
    "df_temp_join = df_join.copy()"
   ]
  },
  {
   "cell_type": "code",
   "execution_count": 17,
   "metadata": {},
   "outputs": [
    {
     "data": {
      "text/html": [
       "<div>\n",
       "<style scoped>\n",
       "    .dataframe tbody tr th:only-of-type {\n",
       "        vertical-align: middle;\n",
       "    }\n",
       "\n",
       "    .dataframe tbody tr th {\n",
       "        vertical-align: top;\n",
       "    }\n",
       "\n",
       "    .dataframe thead th {\n",
       "        text-align: right;\n",
       "    }\n",
       "</style>\n",
       "<table border=\"1\" class=\"dataframe\">\n",
       "  <thead>\n",
       "    <tr style=\"text-align: right;\">\n",
       "      <th></th>\n",
       "      <th>ID</th>\n",
       "      <th>ID_Mail</th>\n",
       "      <th>ID_Telefono</th>\n",
       "    </tr>\n",
       "  </thead>\n",
       "  <tbody>\n",
       "    <tr>\n",
       "      <th>0</th>\n",
       "      <td>9192347</td>\n",
       "      <td>21040637</td>\n",
       "      <td>159326675</td>\n",
       "    </tr>\n",
       "    <tr>\n",
       "      <th>1</th>\n",
       "      <td>9192347</td>\n",
       "      <td>21040637</td>\n",
       "      <td>159326839</td>\n",
       "    </tr>\n",
       "    <tr>\n",
       "      <th>2</th>\n",
       "      <td>9192347</td>\n",
       "      <td>21040637</td>\n",
       "      <td>159327097</td>\n",
       "    </tr>\n",
       "    <tr>\n",
       "      <th>3</th>\n",
       "      <td>9192347</td>\n",
       "      <td>21040637</td>\n",
       "      <td>159327100</td>\n",
       "    </tr>\n",
       "    <tr>\n",
       "      <th>4</th>\n",
       "      <td>9192347</td>\n",
       "      <td>21040637</td>\n",
       "      <td>159327103</td>\n",
       "    </tr>\n",
       "    <tr>\n",
       "      <th>...</th>\n",
       "      <td>...</td>\n",
       "      <td>...</td>\n",
       "      <td>...</td>\n",
       "    </tr>\n",
       "    <tr>\n",
       "      <th>499995</th>\n",
       "      <td>9667277</td>\n",
       "      <td>18433466</td>\n",
       "      <td>160122884</td>\n",
       "    </tr>\n",
       "    <tr>\n",
       "      <th>499996</th>\n",
       "      <td>9667277</td>\n",
       "      <td>18890698</td>\n",
       "      <td>160122877</td>\n",
       "    </tr>\n",
       "    <tr>\n",
       "      <th>499997</th>\n",
       "      <td>9667277</td>\n",
       "      <td>18890698</td>\n",
       "      <td>160122879</td>\n",
       "    </tr>\n",
       "    <tr>\n",
       "      <th>499998</th>\n",
       "      <td>9667277</td>\n",
       "      <td>18890698</td>\n",
       "      <td>160122881</td>\n",
       "    </tr>\n",
       "    <tr>\n",
       "      <th>499999</th>\n",
       "      <td>9667277</td>\n",
       "      <td>18890698</td>\n",
       "      <td>160122884</td>\n",
       "    </tr>\n",
       "  </tbody>\n",
       "</table>\n",
       "<p>500000 rows × 3 columns</p>\n",
       "</div>"
      ],
      "text/plain": [
       "             ID   ID_Mail ID_Telefono\n",
       "0       9192347  21040637   159326675\n",
       "1       9192347  21040637   159326839\n",
       "2       9192347  21040637   159327097\n",
       "3       9192347  21040637   159327100\n",
       "4       9192347  21040637   159327103\n",
       "...         ...       ...         ...\n",
       "499995  9667277  18433466   160122884\n",
       "499996  9667277  18890698   160122877\n",
       "499997  9667277  18890698   160122879\n",
       "499998  9667277  18890698   160122881\n",
       "499999  9667277  18890698   160122884\n",
       "\n",
       "[500000 rows x 3 columns]"
      ]
     },
     "execution_count": 17,
     "metadata": {},
     "output_type": "execute_result"
    }
   ],
   "source": [
    "df_join = df_temp_join.copy()\n",
    "\n",
    "# Duplicates removal (just in case, as it is shown, there aren't any)\n",
    "\n",
    "df_join.drop_duplicates(keep='first', inplace=True)\n",
    "df_join.reset_index(drop=True, inplace=True)\n",
    "\n",
    "df_temp_join = df_join.copy()\n",
    "\n",
    "df_join"
   ]
  },
  {
   "cell_type": "code",
   "execution_count": null,
   "metadata": {},
   "outputs": [],
   "source": [
    "df_temp_mails = pd.read_csv('df_mails_final.csv', index_col=[0]) \\\n",
    "                            .astype('object')\n",
    "df_temp_mails.rename(columns={'contactability':'scoring_mail'}, inplace=True)\n",
    "df_temp_mails.drop(['Email', 'user', 'domain', 'valid', 'valid_domain', \\\n",
    "                    'trust', 'user_trust'], axis=1, inplace=True)\n",
    "\n",
    "# df_temp_mails"
   ]
  },
  {
   "cell_type": "code",
   "execution_count": null,
   "metadata": {},
   "outputs": [],
   "source": [
    "df_temp_phones = pd.read_csv('df_phones_final.csv', index_col=[0]) \\\n",
    "                            .astype('object')\n",
    "df_temp_phones.rename(columns={'contactability':'scoring_phone'}, inplace=True)\n",
    "df_temp_phones.drop(['Numero_Completo'], axis=1, inplace=True)\n",
    "\n",
    "# df_temp_phones"
   ]
  },
  {
   "cell_type": "code",
   "execution_count": null,
   "metadata": {},
   "outputs": [],
   "source": [
    "df_join = df_temp_join.copy()\n",
    "df_mails = df_temp_mails.copy()\n",
    "df_phones = df_temp_phones.copy()\n",
    "\n",
    "# Merge ID, Mails and Phones dfs\n",
    "\n",
    "df_join = pd.merge(df_join, df_mails, how='left')\n",
    "df_join = pd.merge(df_join, df_phones, how='left')\n",
    "\n",
    "df_join"
   ]
  },
  {
   "cell_type": "code",
   "execution_count": 21,
   "metadata": {},
   "outputs": [],
   "source": [
    "df_join.to_csv('df_joins_final.csv')"
   ]
  },
  {
   "cell_type": "code",
   "execution_count": 22,
   "metadata": {},
   "outputs": [
    {
     "data": {
      "text/plain": [
       "'2022-09-11 15:10:49.037651'"
      ]
     },
     "execution_count": 22,
     "metadata": {},
     "output_type": "execute_result"
    }
   ],
   "source": [
    "str(datetime.now())"
   ]
  }
 ],
 "metadata": {
  "kernelspec": {
   "display_name": "Python 3.10.7 64-bit",
   "language": "python",
   "name": "python3"
  },
  "language_info": {
   "codemirror_mode": {
    "name": "ipython",
    "version": 3
   },
   "file_extension": ".py",
   "mimetype": "text/x-python",
   "name": "python",
   "nbconvert_exporter": "python",
   "pygments_lexer": "ipython3",
   "version": "3.10.7"
  },
  "vscode": {
   "interpreter": {
    "hash": "25c7275b3166bf0c254c0206e674d3db31a932eddaaabc6ffee3aa6de3d85c57"
   }
  }
 },
 "nbformat": 4,
 "nbformat_minor": 4
}
