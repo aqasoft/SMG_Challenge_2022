{
 "cells": [
  {
   "cell_type": "markdown",
   "metadata": {},
   "source": [
    "# Swiss Medical Challenge 2022\n",
    "\n",
    "Given a dataset of 500,000 records containing contact information (email \n",
    "addresses and telephone numbers) of individual clients and companies, \n",
    "the job is to build a contactability index (trust index) for each contact \n",
    "record. \n",
    "\n",
    "The data is provided as is, taken from several company data sources: this means \n",
    "that data entries are with many typing errors and mistakes.\n",
    "\n",
    "_**Important note**: All private information has been removed from both the\n",
    "code and documents published._"
   ]
  },
  {
   "cell_type": "markdown",
   "metadata": {},
   "source": [
    "The original dataset contains the following columns, meaning:\n",
    "\n",
    "* 'ID' = Client ID (several individuals can belong to one client, this is the \n",
    "case of company clients)\n",
    "* 'ID_Mail' = Unique email identifier\n",
    "* 'Email' = Email address for an individual\n",
    "* 'Origen_mail' = Source from where that email comes from\n",
    "* 'ID_Telefono' = Unique phone number identifier\n",
    "* 'Numero_Completo' = Telephone number for an individual\n",
    "* 'Origen_telefono' = Source from where that telephone number comes from"
   ]
  },
  {
   "cell_type": "markdown",
   "metadata": {},
   "source": [
    "## Solution\n",
    "\n",
    "The task at hand was divided into the following steps:\n",
    "\n",
    "1. Evaluating the `domain` part of the email address, and assigning a trust \n",
    "index. This is done in Batch 1 and first part of Batch 2.\n",
    "2. Building a trust index for the `user` part of the email address. Second \n",
    "part of Batch 2.\n",
    "3. Cleaning telephone numbers and building a trust index for them. Batch 3.\n",
    "4. Batch 4 takes care of joining the results in a new, ordered and clean \n",
    "dataset that may be used as a contact database having the following \n",
    "contactability indexes:\n",
    "\n",
    "* For emails, the contactability index is built as `domain_trust @ user_trust`.\n",
    "* For phones, the contactability index is a `trust_number`.\n",
    "\n",
    "5. In Batch 5 the collected information is put into plot graphs that are \n",
    "later used to build the presentation.\n"
   ]
  },
  {
   "cell_type": "markdown",
   "metadata": {},
   "source": [
    "#### A few notes:\n",
    "\n",
    "1. All markdown titles were kept as comments within each code cell.\n",
    "2. At the beginning and at the end of each cell a copy of the dataframe being \n",
    "modified is made in order to allow for several executions of that cell without \n",
    "running the previous part of the ipynb. \n",
    "3. Along the code some data is being stored separately in order to be used \n",
    "in Batch 5 for the plot graphs."
   ]
  },
  {
   "cell_type": "code",
   "execution_count": 89,
   "metadata": {},
   "outputs": [],
   "source": [
    "import pandas as pd\n",
    "import numpy as np\n",
    "import matplotlib as mpl\n",
    "import matplotlib.pyplot as plt \n",
    "plt.style.use('seaborn-colorblind')\n",
    "%matplotlib inline\n",
    "import seaborn as sns\n",
    "import regex as re\n",
    "from Levenshtein import distance as lev\n",
    "from concurrent.futures import ThreadPoolExecutor\n",
    "from dns import resolver\n",
    "import requests\n",
    "import threading\n",
    "from datetime import datetime\n",
    "import pickle\n",
    "\n",
    "# Omitir warnings\n",
    "import warnings\n",
    "warnings.filterwarnings('ignore')"
   ]
  },
  {
   "cell_type": "code",
   "execution_count": 90,
   "metadata": {},
   "outputs": [
    {
     "data": {
      "text/plain": [
       "'2022-09-11 14:23:09.477764'"
      ]
     },
     "execution_count": 90,
     "metadata": {},
     "output_type": "execute_result"
    }
   ],
   "source": [
    "str(datetime.now())"
   ]
  },
  {
   "cell_type": "code",
   "execution_count": 91,
   "metadata": {},
   "outputs": [
    {
     "data": {
      "text/plain": [
       "Index(['ID', 'ID_Mail', 'Email', 'Origen_mail', 'ID_Telefono',\n",
       "       'Numero_Completo', 'Origen_telefono'],\n",
       "      dtype='object')"
      ]
     },
     "execution_count": 91,
     "metadata": {},
     "output_type": "execute_result"
    }
   ],
   "source": [
    "# Data read\n",
    "\n",
    "df_data = pd.read_csv('set_smg.csv', encoding='ansi', dtype='object')\n",
    "\n",
    "df_data.columns"
   ]
  },
  {
   "cell_type": "code",
   "execution_count": null,
   "metadata": {},
   "outputs": [],
   "source": [
    "# Data sort\n",
    "\n",
    "df_data.sort_values(by=['ID', 'ID_Mail'], inplace=True)\n",
    "\n",
    "# df_data"
   ]
  },
  {
   "cell_type": "code",
   "execution_count": null,
   "metadata": {},
   "outputs": [],
   "source": [
    "# Mails extraction, domains extraction\n",
    "\n",
    "df_mails = df_data[['ID', 'ID_Mail', 'Origen_mail', 'Email']]\n",
    "\n",
    "pattern = re.compile(r'(?i)(?P<user>.+)@(?P<domain>.+)')\n",
    "\n",
    "matches = df_mails.Email.apply(lambda x: pattern.search(x.lower()))\n",
    "mail_user = matches.apply(lambda x: np.nan if x is None else \\\n",
    "                            x.group('user').lower())\n",
    "mail_domain = matches.apply(lambda x: np.nan if x is None else \\\n",
    "                            x.group('domain').lower())\n",
    "\n",
    "df_mails['user'] = mail_user\n",
    "df_mails['domain'] = mail_domain\n",
    "\n",
    "df_temp_mails = df_mails.copy()\n",
    "\n",
    "# df_mails"
   ]
  },
  {
   "cell_type": "code",
   "execution_count": null,
   "metadata": {},
   "outputs": [],
   "source": [
    "df_mails = df_temp_mails.copy()\n",
    "\n",
    "# Mail duplicates removal\n",
    "\n",
    "df_mails.drop_duplicates(keep='first', inplace=True)\n",
    "df_mails.reset_index(drop=True, inplace=True)\n",
    "\n",
    "df_temp_mails = df_mails.copy()\n",
    "\n",
    "# df_mails"
   ]
  },
  {
   "cell_type": "code",
   "execution_count": 95,
   "metadata": {},
   "outputs": [
    {
     "data": {
      "text/html": [
       "<div>\n",
       "<style scoped>\n",
       "    .dataframe tbody tr th:only-of-type {\n",
       "        vertical-align: middle;\n",
       "    }\n",
       "\n",
       "    .dataframe tbody tr th {\n",
       "        vertical-align: top;\n",
       "    }\n",
       "\n",
       "    .dataframe thead th {\n",
       "        text-align: right;\n",
       "    }\n",
       "</style>\n",
       "<table border=\"1\" class=\"dataframe\">\n",
       "  <thead>\n",
       "    <tr style=\"text-align: right;\">\n",
       "      <th></th>\n",
       "      <th>domain</th>\n",
       "      <th>valid</th>\n",
       "      <th>valid_domain</th>\n",
       "      <th>trust</th>\n",
       "    </tr>\n",
       "  </thead>\n",
       "  <tbody>\n",
       "    <tr>\n",
       "      <th>gmail.com</th>\n",
       "      <td>gmail.com</td>\n",
       "      <td></td>\n",
       "      <td></td>\n",
       "      <td></td>\n",
       "    </tr>\n",
       "    <tr>\n",
       "      <th>outlook.com</th>\n",
       "      <td>outlook.com</td>\n",
       "      <td></td>\n",
       "      <td></td>\n",
       "      <td></td>\n",
       "    </tr>\n",
       "    <tr>\n",
       "      <th>yahoo.com.ar</th>\n",
       "      <td>yahoo.com.ar</td>\n",
       "      <td></td>\n",
       "      <td></td>\n",
       "      <td></td>\n",
       "    </tr>\n",
       "    <tr>\n",
       "      <th>pereirayasociados.com.ar</th>\n",
       "      <td>pereirayasociados.com.ar</td>\n",
       "      <td></td>\n",
       "      <td></td>\n",
       "      <td></td>\n",
       "    </tr>\n",
       "    <tr>\n",
       "      <th>hotmail.com</th>\n",
       "      <td>hotmail.com</td>\n",
       "      <td></td>\n",
       "      <td></td>\n",
       "      <td></td>\n",
       "    </tr>\n",
       "    <tr>\n",
       "      <th>...</th>\n",
       "      <td>...</td>\n",
       "      <td>...</td>\n",
       "      <td>...</td>\n",
       "      <td>...</td>\n",
       "    </tr>\n",
       "    <tr>\n",
       "      <th>ahmad.com.ar</th>\n",
       "      <td>ahmad.com.ar</td>\n",
       "      <td></td>\n",
       "      <td></td>\n",
       "      <td></td>\n",
       "    </tr>\n",
       "    <tr>\n",
       "      <th>sinergylanguage.com</th>\n",
       "      <td>sinergylanguage.com</td>\n",
       "      <td></td>\n",
       "      <td></td>\n",
       "      <td></td>\n",
       "    </tr>\n",
       "    <tr>\n",
       "      <th>synergylanguage.com</th>\n",
       "      <td>synergylanguage.com</td>\n",
       "      <td></td>\n",
       "      <td></td>\n",
       "      <td></td>\n",
       "    </tr>\n",
       "    <tr>\n",
       "      <th>ddas.com.ar</th>\n",
       "      <td>ddas.com.ar</td>\n",
       "      <td></td>\n",
       "      <td></td>\n",
       "      <td></td>\n",
       "    </tr>\n",
       "    <tr>\n",
       "      <th>mincyt.gov.ar</th>\n",
       "      <td>mincyt.gov.ar</td>\n",
       "      <td></td>\n",
       "      <td></td>\n",
       "      <td></td>\n",
       "    </tr>\n",
       "  </tbody>\n",
       "</table>\n",
       "<p>5309 rows × 4 columns</p>\n",
       "</div>"
      ],
      "text/plain": [
       "                                            domain valid valid_domain trust\n",
       "gmail.com                                gmail.com                         \n",
       "outlook.com                            outlook.com                         \n",
       "yahoo.com.ar                          yahoo.com.ar                         \n",
       "pereirayasociados.com.ar  pereirayasociados.com.ar                         \n",
       "hotmail.com                            hotmail.com                         \n",
       "...                                            ...   ...          ...   ...\n",
       "ahmad.com.ar                          ahmad.com.ar                         \n",
       "sinergylanguage.com            sinergylanguage.com                         \n",
       "synergylanguage.com            synergylanguage.com                         \n",
       "ddas.com.ar                            ddas.com.ar                         \n",
       "mincyt.gov.ar                        mincyt.gov.ar                         \n",
       "\n",
       "[5309 rows x 4 columns]"
      ]
     },
     "execution_count": 95,
     "metadata": {},
     "output_type": "execute_result"
    }
   ],
   "source": [
    "df_mails = df_temp_mails.copy()\n",
    "\n",
    "# Domains unique extraction and df setting up\n",
    "\n",
    "domains = df_mails.domain.unique()\n",
    "domains_list = list(domains)\n",
    "\n",
    "df_domains = pd.DataFrame(index=domains_list)\n",
    "df_domains['domain'] = df_domains.index\n",
    "df_domains['valid'] = ''\n",
    "df_domains['valid_domain'] = ''\n",
    "df_domains['trust'] = ''\n",
    "\n",
    "df_temp_domains = df_domains.copy()\n",
    "\n",
    "df_domains"
   ]
  },
  {
   "cell_type": "code",
   "execution_count": 96,
   "metadata": {},
   "outputs": [],
   "source": [
    "# Setup Graphics df\n",
    "\n",
    "dict_graph = {}\n",
    "\n",
    "dict_temp_graph = dict_graph.copy()"
   ]
  },
  {
   "cell_type": "code",
   "execution_count": 97,
   "metadata": {},
   "outputs": [
    {
     "data": {
      "text/plain": [
       "{'domains_total': 5309}"
      ]
     },
     "execution_count": 97,
     "metadata": {},
     "output_type": "execute_result"
    }
   ],
   "source": [
    "dict_graph = dict_temp_graph.copy()\n",
    "\n",
    "# Store graph data\n",
    "\n",
    "dict_graph.update({'domains_total': domains.shape[0]})\n",
    "\n",
    "dict_temp_graph = dict_graph.copy()\n",
    "dict_graph"
   ]
  },
  {
   "cell_type": "code",
   "execution_count": 98,
   "metadata": {},
   "outputs": [
    {
     "name": "stdout",
     "output_type": "stream",
     "text": [
      "+++++++++++++++++++-++-+++++++++-+++++-++++++++++++++++++++++++++++++-++++++++++-+-+-++++++++++++++++++++++++++++++-++++++++-++++-+++-+++--++++++--+-++-++++++++++-+++++++++-+++++++++--+++++++++++++--++++++++-+++++++++++++++++-+++++++++++++++++-+++++++++++++++++++++++++++++++-+++++-++-+-++-++++++-++++++-+-+-+++++-++++++++++++++++++++++++++++++++++-++-++-+++-++++++-++-++++-++++++++++++++++++++-+-+++++-++++++++-+++++--+++++++++++++++++++++-++-++++-++-+++-+-++++++-++++++-++-++++++++++++++++-++-++++++++++-+++++++++---++++++++---++++++++-+++++++++++-+-++++++-++++++++++++++-+++++++-+++++++++-++-+--+++-+++++--+--++++-++++++++++++++++-+++-+++++++-+++++--++++-+-+++-++++++++++-+++-+++-+++++--++++++-+++-+++++++-++++-+++++++++++++++++--++++++++++++++++++++++++--+-+++++++++-+++-++++++++++-++-+-+++-++-+++++++++++-++++++++++-+++--++-++++++++-++++++++++++++++++++++++++-++-++++-+++++++++++++++++++++-+--+++++++-+++++-+++++++++-+++++++++--+++++++++--++-++++++++++++++-+-++++++++-++++++++++-+++++++++++-++++++-+++++-+++++-++++-+++++++++++-++++++++++++-++++++--++-++-+-+++---+-+++++--+++++++++++++++++-++++++++++++++++++++++++++++-++-+++++++++++-+-+-+++--+++++-+-+++++++++-++++++++++++++++-+-++++-+++-++---++-+++++++++-+++++++++-+++-++++--+-+++++++++++++++--+++++-++++-++++++++++--++-++--++++++-+++-+++++-++-++++++++++++--++++-+++++--+--++++++++++--++-+++++++++++-+++++-++++++--+-+++-++++++++-+-+++-+-++++++++++++---+++-++++-++---++-+++++++++-++++--+++-++-+-++--+++++++-+-+--+++-++++-+++-++++++++++++++++-+++-+-++-++++-+-+-++-++++++-+++-++++++--+-+++-++++++++++++++++-++++-++++++-++--+++-++++++-+++-++++++-+++-+++++-+++-+--+-+++++++--+--+++-++--++++++++++++-++++++--+-+++-++--++-+++++++-+++++-+---+-+++-+--++-+++++-+-----++++++---+++++-++++-+-++++++++++++-+++++-++++++++-+++++++---++++--+-+++-+-++++++-+---+++++++-++-+++++++-++++++++++--++++++-+--+-+++++-+---+++++++-+++-+-++++++-+++++++-++++-++++-----+++--++--++++++-+++++++++++++++++++-+-+-+++-++-+-+++++++++++-++-+++-++++++-+-++-++++-+++-+-+++++++++++---+++++--++-+-++++-+++++++-++++--+-++++++++++-++-+---+++-+++++++-+--++-++++--++--++-+++++++++-+-+-++-+++++++-++++++++++-+-+-++++++++++++-+++++++++++++-+++++-+--+--+++--+++++++++-+++++++++++-++++++-++-+++-+++++-+-++-+---++-+++++-+-++--+++-++-++++-+++++-++--+++++++++-++--+-++++++-+-++++--++++++++++++++++-++++++-+-++-+++-++---++++++++--+-++++-++-++---+++-++++++++--+++++++++---+--++++++++++++--++-+++--++--+++++-++-+--+-++-+---+-+-+++++--+++-++++++++++++++++++++++-+-+++-+-+---+++++-+++++++++++++-+-+++++++-++-++-+++-+++-++++++++--+++++++-+-+++-+-++-++++--+++++++++++-++++-+++-+-+++++++++--+++++--++-+-+++++-+++++++--+++++-+++-+++++-+++-+++++++++++-+-++++++++++++++++++--+--+-+++-+-+++-+++++++++++++-++++-+++++++-++++++++-++++++++-+++-++++++-+++++--++++++-++-+++-++++++++-+--+++-+++---+++++++++--+++-++++++++-+++++++--+++++-+-+-++++--+++-++++++-+--+++++-+++++-+++++-+++++++-++++-++++-+++--+++++++-+--++++--+++++++--++++++-+++++-++-++-+++++++++++++++++++-+++++++--+++-++++-+++++++++-+-+-++++++++++++-+++++++++++-++++++-+-+++++++--++-+--+--++++-+++++++++++-+++++++------+++-+++-+++++++-++++-++++++-+--++-++++-+-++++++++++++-+++++++-+--+-+-++++-+++++++--+++++++-+--++----++++-+-+-+++++++++++-+++-++---+--+-++++++++++++--+--+-++++++-++++-++-+++++++++++++++++++++++++++++-++++++++++--++--++--+++++---++-++++++-++++-++-++-++-++++++++++++--+++++++---+++--+++-+++-++--++++++-++++++-+++++++++++--++---+-+++++-+++++++++-+-+++-+++++++++-++-++++---+++++-+++++--+++-++++-++++--+++++++++-++++++++++++++--++++-++++++++++++++--++++-++-+-+-++++--++-++-++++++-+++++++-+++++++-++++++++++++++++---++++-++++-+++++++++++++-++++++-+++++--+++++-+-++++++--++--+++++++++-+++-+++-++++++++-+++-+++-+++--++---+-+--++---+++++-++++-+---+--+-+-++-++--+++-+--++-++++++++++-+-+-++-+++++--+--+-+++++-+-++-++-++++++++++-+++++++++++-+++++++++++-+++-+++---+-++-++++++-+++++++++--++++-+++++-++++++++++++--+++-++++-+++++-+-+++++-++-+-+++-++-+++++++--++-+++++-++++++++----+-+++-++++++++++++++-+++++-++++--++--+---+++---+++++++++++-+++-++++++-+++++--++++--++++-+-++-+++-+++-+-+--+++++-+++++++++-+-++-+-++++++++++++-++--+-++++++-++-++-+++-++--++--++++---+++++--++++++++-+++-+++++++++++++-+++++++-+++-++++++-+-+++++-++-+-+++++--++-+++-++++++++++-++-+++++++++++--++-++++-++++++++++++++++++-++--+++++++--+-+++++++++++-++-++++++++++-+++++++++-++++-+--++++++-++++-+-+++--+++-++++-++++++++++++-++-++++-+++++++++-+++++++++++++-++++++-+--+++-+-+-+-++++-+++++++++-+++++-+++++-+++-+++++-++++-++-++-++--+-++-++++++++--++++-+-++++-++--++-+++++++--++-++-+++++-+++-+-+++-+-+++++-++++-++++-++++++++-+-+--+++++-++++--+++++++++++-+++++-+++++-+-++++++-+++++-+++++-++-+++++-+-++++++++-+++-++-++++++-++-+-++++--+-++++--+++++++-++++++++-+++++++--+-++++++-+++++++++++++--++++-+++-++++-+++-++++--++++++-+-++-+++++-++++-++-++-++-+-+++--+++++-+-+--++--+-++---++++--+-++-+++-+++++-+++++---++--+++++++++-++++-++--+-+-++-++++-++---++--++-+++++-++++++++++-+++-++++++++++++++-+-+++-+-++-++++-+-+++++-++-++++-++++++-+-+-+++++++++--++++--+-+++++++--++++--++-+++-++++++++++-+++-+++-++++++-+++++-+--+++++++++-++++---++--++-++++++++++++++++++++++--++-++-+-+-+-++-++++-+++++--+--+++++--+++-+-+++-+++++++-++-++++++-+-+++++++-+-+++-++++--+-+++++-+-+--++++++-++++-++++-++++++++++-----++-++++-++++-+++++++-++++--++++++-++-++++++++-++++++-+-++-++++-++++--+++++-+++++-+++++++++-++-+-+++++-+++++++-+"
     ]
    }
   ],
   "source": [
    "df_domains = df_temp_domains.copy()\n",
    "\n",
    "# Verify existence for MX records in DNSs for each domain\n",
    "\n",
    "domains = df_domains.index\n",
    "domains_list = list(domains)\n",
    "\n",
    "def validate_existence(domain):\n",
    "    try:\n",
    "        resolver.resolve(domain, 'MX')\n",
    "    except:\n",
    "        print('-', end='')\n",
    "        df_domains.at[domain, 'valid'] = False\n",
    "        df_domains.at[domain, 'valid_domain'] = domain\n",
    "        df_domains.at[domain, 'trust'] = 0\n",
    "    else:\n",
    "        print('+', end='')\n",
    "        df_domains.at[domain, 'valid'] = True\n",
    "        df_domains.at[domain, 'valid_domain'] = domain\n",
    "        df_domains.at[domain, 'trust'] = 100\n",
    "\n",
    "with ThreadPoolExecutor() as executor:\n",
    "    executor.map(validate_existence, domains_list)\n",
    "\n",
    "df_temp_domains = df_domains.copy()"
   ]
  },
  {
   "cell_type": "code",
   "execution_count": 99,
   "metadata": {},
   "outputs": [
    {
     "data": {
      "text/plain": [
       "{'domains_total': 5309, 'domains_MX_false': 1146, 'domains_MX_true': 4163}"
      ]
     },
     "execution_count": 99,
     "metadata": {},
     "output_type": "execute_result"
    }
   ],
   "source": [
    "dict_graph = dict_temp_graph.copy()\n",
    "\n",
    "# Store graph data\n",
    "\n",
    "dict_graph.update({'domains_MX_false': df_domains.valid.value_counts()[0]})\n",
    "dict_graph.update({'domains_MX_true': df_domains.valid.value_counts()[1]})\n",
    "\n",
    "dict_temp_graph = dict_graph.copy()\n",
    "dict_graph"
   ]
  },
  {
   "cell_type": "code",
   "execution_count": 100,
   "metadata": {},
   "outputs": [
    {
     "name": "stdout",
     "output_type": "stream",
     "text": [
      "---+-------+---+---+--+-----+--+---+------+-----+-------+--+---------+---------+---------------------------+-------+-------++--+----+------+------------+---++-----+---------------------------+-------++----------------+---+--------+-+--+------------+--------+---------------------------------------------------------+---++-+-+----+++------+---------+----+---+-------+-----------+-++------------------------------+-----+-----+-------------+----+-----------+------+--++----+------------++++--------------------+-----------++-----+--------+----+---++--+--+-------------+--+--------------------+---+----++------+---++-+--+--------+----------+---+----------+------+-------+++-+-----------+----+----+----------------+-------+---------+---------+-------+----+--------------------+--++-----------+--------+----------------------------------++-----+------------+--------------+--+-------+-----+----------+-+------------+----+----------+-----+-------+---------+-------------------+----+--------------++---------+---------------------------+------------++-----+-+----+-----+---++----+---------+-----+--------------------------------------+----+----------++++"
     ]
    }
   ],
   "source": [
    "df_domains = df_temp_domains.copy()\n",
    "\n",
    "# Verify existence of A records in DNSs for domains starting without 'www.'\n",
    "# MX records fallback in A records.\n",
    "\n",
    "domains = df_domains[df_domains.valid == False].index\n",
    "domains_list = list(domains)\n",
    "\n",
    "def validate_existence(domain):\n",
    "    try:\n",
    "        response = requests.get(f'http://{domain}', timeout=10)\n",
    "    except:\n",
    "        print('-', end='')\n",
    "    else:\n",
    "        print('+', end='')\n",
    "        df_domains.at[domain, 'valid'] = True\n",
    "        df_domains.at[domain, 'valid_domain'] = domain\n",
    "        df_domains.at[domain, 'trust'] = 99\n",
    "\n",
    "with ThreadPoolExecutor() as executor:\n",
    "    executor.map(validate_existence, domains_list)\n",
    "\n",
    "df_temp_domains = df_domains.copy()"
   ]
  },
  {
   "cell_type": "code",
   "execution_count": 101,
   "metadata": {},
   "outputs": [
    {
     "name": "stdout",
     "output_type": "stream",
     "text": [
      "-------------------------------------------------+----------------------------------------------------------------------------------------------+-----------------------------------------------------------------------------------------------------------------------------------------------------------------------------------------------------------------------------------------------------------------------------------------------+-----------------------------------------------------------------------------------------------------------+-------------------------------------------------------------------------------------------------------------------------------------------------+-------------------------------------------------------------------------------------------------------------------+---------------------------------------------------------------------------------------------------------------------------------------------------------------------------------------------------"
     ]
    }
   ],
   "source": [
    "df_domains = df_temp_domains.copy()\n",
    "\n",
    "# Verify existence of A records in DNSs for domains starting with 'www.'\n",
    "# MX records fallback in A records.\n",
    "\n",
    "domains = df_domains[df_domains.valid == False].index\n",
    "domains_list = list(domains)\n",
    "\n",
    "def validate_existence(domain):\n",
    "    try:\n",
    "        response = requests.get(f'http://www.{domain}', timeout=10)\n",
    "    except:\n",
    "        print('-', end='')\n",
    "    else:\n",
    "        print('+', end='')\n",
    "        df_domains.at[domain, 'valid'] = True\n",
    "        df_domains.at[domain, 'valid_domain'] = domain\n",
    "        df_domains.at[domain, 'trust'] = 98\n",
    "\n",
    "with ThreadPoolExecutor() as executor:\n",
    "    executor.map(validate_existence, domains_list)\n",
    "\n",
    "df_domains.domain.value_counts()\n",
    "\n",
    "df_temp_domains = df_domains.copy()"
   ]
  },
  {
   "cell_type": "code",
   "execution_count": 102,
   "metadata": {},
   "outputs": [
    {
     "data": {
      "text/plain": [
       "{'domains_total': 5309,\n",
       " 'domains_MX_false': 1146,\n",
       " 'domains_MX_true': 4163,\n",
       " 'domains_A_false': 992,\n",
       " 'domains_A_true': 4317}"
      ]
     },
     "execution_count": 102,
     "metadata": {},
     "output_type": "execute_result"
    }
   ],
   "source": [
    "dict_graph = dict_temp_graph.copy()\n",
    "\n",
    "# Store graph data\n",
    "\n",
    "dict_graph.update({'domains_A_false': df_domains.valid.value_counts()[0]})\n",
    "dict_graph.update({'domains_A_true': df_domains.valid.value_counts()[1]})\n",
    "\n",
    "dict_temp_graph = dict_graph.copy()\n",
    "dict_graph"
   ]
  },
  {
   "cell_type": "code",
   "execution_count": 103,
   "metadata": {},
   "outputs": [
    {
     "name": "stdout",
     "output_type": "stream",
     "text": [
      "------------------------------------------------------------------------------------------------------------------------------------------------------------------------------------------------------------------+------------------------------------------------------------------------------------------+------------------------------+------------------------------------------------------------------------------------------------------------------------+------------------------------++o+o++o+o+o------------------------------+++oo+++++o++------------------------------+oo++------------------------------------------------------------------------------------------++o++o+o++++------------------------------+++o------------------------------+o++o------------------------------------------------------------+------------------------------------------------------------++++++o++------------------------------+o------------------------------+------------------------------+++++------------------------------+oo+o+++++++------------------------------+o+o+------------------------------------------------------------+++o------------------------------++++o+++------------------------------------------------------------------------------------------+++++++------------------------------+++------------------------------++++o+o+o+o+o+"
     ]
    }
   ],
   "source": [
    "df_domains = df_temp_domains.copy()\n",
    "\n",
    "# Replace by dictionary 1: \n",
    "#   Domains that are sinks for spam collection because of its short distance\n",
    "#   with a TRUE valid domain and thus whould result in a FALSE POSITIVE \n",
    "#   high trust assignment.\n",
    "#   https://tecnofimatica.com/hotmail/iniciar-sesion/#Dominios_regionales\n",
    "\n",
    "by_hand_correct = [\n",
    "                'hotmail.com',\n",
    "                'hotmail.com.ar',\n",
    "                'hotmail.es',\n",
    "                'hotmail.cl',\n",
    "                'hotmail.it',\n",
    "                'hotmail.fr',\n",
    "                'outlook.com',\n",
    "                'outlook.es',\n",
    "                'outlook.cl',\n",
    "                'outlook.it',\n",
    "                'outlook.fr',\n",
    "                'live.com',\n",
    "                'live.com.ar',\n",
    "                'live.com.mx',\n",
    "                'live.co',\n",
    "                'live.fr',\n",
    "                'gmail.com',\n",
    "                'speedy.com.ar',\n",
    "                'yahoo.com.ar',\n",
    "                'yahoo.com.br',\n",
    "                'yahoo.com.mx',\n",
    "                'yahoo.com.es',\n",
    "                'yahoo.com.tw',\n",
    "                'yahoo.com.cn',\n",
    "                'yahoo.com',\n",
    "                'ymail.com',\n",
    "                'yahoo.es',\n",
    "                'yahoo.it',\n",
    "                'yahoo.fr',\n",
    "                'yahoo.ca'\n",
    "                # add pairs as detected, see (*) Note.\n",
    "]\n",
    "\n",
    "by_hand_valid = [\n",
    "                'mail.com',         # Suspicious of being false provider\n",
    "                'email.com',        # Suspicious of being false provider\n",
    "                # 'gotmail.com',      # Suspicious of being false provider\n",
    "                'bahco.com',\n",
    "                'life.com',\n",
    "                'life.com.ar',\n",
    "                'aivo.co',\n",
    "                'gire.com',\n",
    "                'riva.com.ar',\n",
    "                'liv.com.ar',\n",
    "                'tije.com',\n",
    "                'tije.com.ar',\n",
    "                'linde.com',\n",
    "                'ilove.com',\n",
    "                'line.com.ar',\n",
    "                'lije.com'\n",
    "                # add pairs as detected, see (*) Note.\n",
    "]\n",
    "\n",
    "domains = df_domains[df_domains.valid == True].index\n",
    "domains_list = list(domains)\n",
    "\n",
    "for domain in domains_list:\n",
    "    for correct in by_hand_correct:\n",
    "        if domain in by_hand_valid or domain in by_hand_correct:\n",
    "            print('-', end='')\n",
    "            continue                    # do not change, keep it.\n",
    "        distance = lev(domain, correct)\n",
    "        if distance != 0 and distance <= 2:\n",
    "            if df_domains.at[domain, 'trust'] == 90:            # (*) TRUST 2°\n",
    "                print('o', end='')      # a better distance has been assigned\n",
    "                continue                # is already better, keep it\n",
    "            print('+', end='')\n",
    "            # (*) Note: enable the following print to detect domains that\n",
    "            #           should not be changed...\n",
    "            # print('\\n', domain, '->', correct, '->', distance)\n",
    "            df_domains.at[domain, 'valid_domain'] = correct\n",
    "            df_domains.at[domain, 'valid'] = False\n",
    "            df_domains.at[domain, 'trust'] = 91 - distance      # (*) TRUST 1°\n",
    "\n",
    "df_temp_domains = df_domains.copy()"
   ]
  },
  {
   "cell_type": "code",
   "execution_count": 104,
   "metadata": {},
   "outputs": [
    {
     "data": {
      "text/plain": [
       "{'domains_total': 5309,\n",
       " 'domains_MX_false': 1146,\n",
       " 'domains_MX_true': 4163,\n",
       " 'domains_A_false': 992,\n",
       " 'domains_A_true': 4317,\n",
       " 'domains_spam_sink': 91}"
      ]
     },
     "execution_count": 104,
     "metadata": {},
     "output_type": "execute_result"
    }
   ],
   "source": [
    "dict_graph = dict_temp_graph.copy()\n",
    "\n",
    "# Store graph data\n",
    "\n",
    "mask = (df_domains.trust <= 90) & (df_domains.trust >= 81)\n",
    "\n",
    "dict_graph.update({'domains_spam_sink':  mask.value_counts()[1]})\n",
    "\n",
    "dict_temp_graph = dict_graph.copy()\n",
    "dict_graph"
   ]
  },
  {
   "cell_type": "code",
   "execution_count": 105,
   "metadata": {},
   "outputs": [
    {
     "name": "stdout",
     "output_type": "stream",
     "text": [
      "hotmail.com.com\n",
      "live.com.com\n"
     ]
    }
   ],
   "source": [
    "# Detect the '.com.com' trap\n",
    "\n",
    "domains = df_domains.domain.unique()\n",
    "domains_list = list(domains)\n",
    "\n",
    "for domain in domains_list:\n",
    "    if str(df_domains.loc[domain].domain).endswith(\".com.com\"):\n",
    "        print(df_domains.loc[domain].domain)"
   ]
  },
  {
   "cell_type": "code",
   "execution_count": 106,
   "metadata": {},
   "outputs": [
    {
     "name": "stdout",
     "output_type": "stream",
     "text": [
      "+++++++++++"
     ]
    }
   ],
   "source": [
    "df_domains = df_temp_domains.copy()\n",
    "\n",
    "# Replace by dictionary 2: \n",
    "# 1. known domains that have a higher distance than 2 and were not\n",
    "#    replaced during the previous step (Replace by dictionary 1).\n",
    "#    Levenshtein distance with correct addresses. \n",
    "# 2. domains that have changed because of company change.\n",
    "# 3. get rid of the '.com.com' trap (spam sink)\n",
    "# 4. domains that were incorrectly assigned because of its short distance \n",
    "#    with a TRUE valid domain (spam sink or valid domain) and thus whould \n",
    "#    result in a FALSE POSITIVE high trust assignment. \n",
    "# 5. domains that are TRUE, assumed to be wrong inputs, and should be corrected.\n",
    "\n",
    "by_hand_dict = {\n",
    "                'gmail.com.ar': 'gmail.com',                    # case 1\n",
    "                'hotmail.com.es': 'hotmail.es',                 # case 1\n",
    "                'hotmail.ar': 'hotmail.com.ar',                 # case 1\n",
    "                'bacho.com': 'bahco.com',                       # case 1\n",
    "                'tarjetashopping.com.ar': 'tarshop.com.ar',     # case 2\n",
    "                'alpargatas.com.ar': 'topper.com',              # case 2\n",
    "                'hotmail.com.com': 'hotmail.com',               # case 3\n",
    "                'live.com.com': 'live.com',                     # case 3\n",
    "                'gamial.com': 'gmail.com',                      # case 4\n",
    "                'gmial.com': 'gmail.com',                       # case 4\n",
    "                'bacs.com': 'bacs.com.ar'                       # case 5\n",
    "                # add pairs as detected\n",
    "} \n",
    "\n",
    "domains = df_domains.index\n",
    "domains_list = list(domains)\n",
    "\n",
    "for domain in domains_list:\n",
    "    for key, value in by_hand_dict.items():\n",
    "        if key == domain:\n",
    "            df_domains.at[domain, 'valid_domain'] = value\n",
    "            df_domains.at[domain, 'valid'] = False\n",
    "            df_domains.at[domain, 'trust'] = 80\n",
    "            print('+', end='')\n",
    "\n",
    "df_temp_domains = df_domains.copy()"
   ]
  },
  {
   "cell_type": "code",
   "execution_count": 107,
   "metadata": {},
   "outputs": [
    {
     "data": {
      "text/plain": [
       "{'domains_total': 5309,\n",
       " 'domains_MX_false': 1146,\n",
       " 'domains_MX_true': 4163,\n",
       " 'domains_A_false': 992,\n",
       " 'domains_A_true': 4317,\n",
       " 'domains_spam_sink': 91,\n",
       " 'domains_known_sink': 11}"
      ]
     },
     "execution_count": 107,
     "metadata": {},
     "output_type": "execute_result"
    }
   ],
   "source": [
    "dict_graph = dict_temp_graph.copy()\n",
    "\n",
    "# Store graph data\n",
    "\n",
    "mask = (df_domains.trust == 80)\n",
    "\n",
    "dict_graph.update({'domains_known_sink':  mask.value_counts()[1]})\n",
    "\n",
    "dict_temp_graph = dict_graph.copy()\n",
    "dict_graph"
   ]
  },
  {
   "cell_type": "code",
   "execution_count": 108,
   "metadata": {},
   "outputs": [
    {
     "name": "stdout",
     "output_type": "stream",
     "text": [
      "+-+-+-+-+-+-+-+-+-+-+-+-+-+-+-+-+-+-+-+-+-+-+-+-+-+-+-+-+-+-+-+-+-+-+-+-+-+-+-+-+-+-+-+-+-+-+-+-+-+-+-+-+-+-+-+-+-+-+-+-+-+-+-+-+-+-+-+-+-+-+-+-+-+-+-+-+-+-+-+-+-+-+-+-+-+-+-+-+-+-+-+-+-+-+-+-+-+-+-+-+-+-+-+-+-+-+-+-+-+-+-+-+-+-+-+-+-+-+-+-+-+-+-+-+-+-+-+-+-+-+-+-+-+-+-+-+-+-+-+-+-+-+-+-+-+-+-+-+-+-+-+-+-+-+-+-+-+-+-+-+-+-+-+-+-+-+-+-+-+-+-+-+-+-+-+-+-+-+-+-+-+-+-+-+-+-+-+-+-+-+-+-+-+-+-+-+-+-+-+-+-+-+-+-+-+-+-+-+-+-+-+-+-+-+-+-+-+-+-+-+-+-+-+-+-+-+-+-+-+-+-+-+-+-+-+-+-+-+-+-+-+-+-+-+-+-+-+-+-+-+-+-+-+-+-+-+-+-+-+-+-+-+-+-+-+-+-+-+-+-+-+-+-+-+-+-+-+-+-+-+-+-+-+-+-+-+-+-+-+-+-+-+-+-+-+-+-+-+-+-+-+-+-+-+-+-+-+-+-+-+-+-+-+-+-+-+-+-+-+-+-+-+-+-+-+-+-+-ooo+-+-+-+-+-+-+-+-+-+-oooooo+-ooo+-+-+-+-+-+-+-+-+-+-ooooo+-+-+-+-+-+-+-+-+-+-+-+-+-ooo+-oo+-o+-+-+-+-+-o+-ooo+-o+-+-ooo+-+-+-+-ooo+-+-o+-+-+-+-+-+-+-+-+-+-+-+-+-+-+-oo+-oo+-ooo+-o+-+-oo+-+-+-+-+-+-+-o+-+-+-ooo+-+-+-+-+-+-+-+-+-+-+-+-+-+-+-+-+-+-+-+-+-+-+-o+-+-+-+-+-+-+-+-+-o+-+-+-+-+-ooo+-ooooooo+-+-+-+-+-+-+-+-+-+-+-+-+-o+-ooooo+-+-+-+-+-+-+-+-+-+-oo+-o+-+-+-+-oo+-oo+-+-+-ooo+-+-ooo+-+-+-+-+-+-+-+-oo+-ooooooooo+-+-+-o+-+-+-+-+-+-+-+-o+-+-+-+-+-+-+-+-+-+-+-+-+-oo+-o+-+-+-oooooo+-+-+-+-oooo+-oooo+-+-+-+-+-ooooo+-+-+-+-oo+-oo+-+-oo+-o+-ooooooooo+-ooo+-+-+-+-+-o+-+-+-+-ooooooo+-oooooooooo+-o+-ooo+-+-oooo+-o+-ooo+-oo+-oo+-+-+-+-oo+-oo+-+-+-oo+-+-+-o+-oo+-oo+-o+-+-o+-+-oooo+-+-+-o+-o+-+-+-+-+-+-+-ooooo+-+-+-o+-ooooooooo+-oo+-oo+-+-+-+-o+-+-+-ooooo+-ooooooooooo+-+-+-ooo+-+-o+-+-+-ooo+-+-+-+-oooo+-+-+-o+-o+-+-+-+-+-ooooo+-+-+-+-+-oooo+-ooooo+-+-o+-+-+-+-ooooooo+-oo+-+-ooo+-+-oo+-o+-+-+-+-+-+-+-+-+-+-+-+-+-+-+-+-+-+-+-+-+-+-+-+-+-o+-oooo+-oo+-+-+-+-+-+-+-+-+-+-+-oooo+-ooooooooooooo+-+-+-o+-o+-oo+-+-+-oo+-oooooo+-+-o+-o+-+-+-+-ooo+-+-+-+-+-+-+-+-+-ooo+-ooo+-ooooooooo+-ooo+-+-+-+-+-+-+-ooooo+-+-+-ooo+-o+-+-+-o+-+-+-+-+-+-+-+-+-ooooooooooooooooo+-+-ooo+-+-oooooooooo+-ooooooo+-+-+-+-+-+-+-+-+-+-+-+-+-+-o+-+-+-+-+-oo+-+-+-+-ooooooooooooo+-oo+-+-+-+-+-+-+-+-+-+-+-+-+-+-+-+-+-+-+-+-+-+-+-oooooooooooooo+-ooooo+-+-+-+-+-+-+-+-+-ooo+-oo+-o+-ooooo+-+-+-+-+-oooooooo+-o+-+-+-ooo+-+-ooo+-+-+-+-+-+-+-+-+-ooo+-+-+-+-+-oooooooo+-o+-+-+-ooo+-+-+-+-+-+-+-+-+-+-ooooo+-+-+-o+-+-+-oooooooooo+-+-+-+-+-+-+-oo+-ooo+-+-+-+-+-+-+-+-+-+-o+-+-+-oooooooo+-oooooo+-+-+-+-+-+-+-+-+-+-+-+-+-+-+-+-+-+-+-+-o+-+-+-+-+-+-+-+-+-+-+-+-+-+-+-+-+-+-+-+-+-oooooo+-+-o+-oooooo+-o+-ooooo+-+-oo+-o+-+-+-+-+-+-oooooo+-ooo+-oo+-ooo+-+-+-+-+-ooooooooo+-ooo+-o+-+-+-+-+-+-+-+-+-+-+-ooo+-+-+-+-+-+-+-+-+-+-oo+-o+-ooooo+-+-+-+-+-+-+-oooooooooo+-+-+-+-+-+-+-+-+-+-+-oooo+-+-+-+-+-+-+-+-+-+-+-+-+-+-+-+-ooooooo+-+-+-+-+-o+-o+-ooooo+-ooooo+-+-+-+-+-+-+-+-oo+-+-+-+-+-+-+-ooo+-+-+-+-+-ooo+-ooo+-+-+-oooo+-+-+-+-+-+-+-+-+-+-+-ooooo+-ooooooooooooooooo+-+-+-+-+-+-oooo+-oooooooooooooooo+-+-ooooooooooo+-+-oo+-oo+-oooo+-o+-+-oooo+-+-+-+-+-o+-ooooo+-+-+-+-+-+-+-+-+-+-+-ooooooooooo+-+-+-oooo+-oooo+-+-oo+-ooo+-+-+-oo+-+-o+-+-+-+-+-+-+-oooooooooooooooooo+-+-+-oo+-+-+-oooooo+-ooooo+-ooo+-ooo+-+-+-+-+-+-+-+-ooo+-+-+-+-+-+-ooooooooo+-o+-+-ooooooo+-+-ooo+-ooo+-ooo+-+-+-ooooooooo"
     ]
    }
   ],
   "source": [
    "df_domains = df_temp_domains.copy()\n",
    "\n",
    "# Allocation of domains (with 0 TRUST) by [1, 2, 3] Levenshtein distance\n",
    "# This step may produce FALSE POSITIVES, and < 40 trust should be \n",
    "# considered MEDIUM TRUST. \n",
    "\n",
    "domains_1 = df_domains[df_domains.valid == True].index\n",
    "domains_list_1 = list(domains_1)\n",
    "domains_2 = df_domains[df_domains.trust == 0].index\n",
    "domains_list_2 = list(domains_2)\n",
    "\n",
    "MAX_CHANGES = 3     # Trial and error proved this constant as best suited\n",
    "for distance in range(1, MAX_CHANGES+1):\n",
    "    for domain_2 in domains_list_2:\n",
    "        if df_domains.at[domain_2, 'trust'] != 0:\n",
    "            print('o', end='')      # a better distance has been assigned\n",
    "            continue\n",
    "        for domain_1 in domains_list_1:\n",
    "            if domain_1 != domain_2 and lev(domain_1, domain_2) == distance:\n",
    "                df_domains.at[domain_2, 'valid_domain'] = domain_1\n",
    "                df_domains.at[domain_2, 'trust'] = 41-distance\n",
    "                print('+-', end='')\n",
    "\n",
    "df_temp_domains = df_domains.copy()"
   ]
  },
  {
   "cell_type": "code",
   "execution_count": 109,
   "metadata": {},
   "outputs": [
    {
     "data": {
      "text/plain": [
       "{'domains_total': 5309,\n",
       " 'domains_MX_false': 1146,\n",
       " 'domains_MX_true': 4163,\n",
       " 'domains_A_false': 992,\n",
       " 'domains_A_true': 4317,\n",
       " 'domains_spam_sink': 91,\n",
       " 'domains_known_sink': 11,\n",
       " 'domains_medium_trust': 595}"
      ]
     },
     "execution_count": 109,
     "metadata": {},
     "output_type": "execute_result"
    }
   ],
   "source": [
    "dict_graph = dict_temp_graph.copy()\n",
    "\n",
    "# Store graph data\n",
    "\n",
    "mask = (df_domains.trust <= 40) & (df_domains.trust >= 31)\n",
    "\n",
    "dict_graph.update({'domains_medium_trust':  mask.value_counts()[1]})\n",
    "\n",
    "dict_temp_graph = dict_graph.copy()\n",
    "dict_graph"
   ]
  },
  {
   "cell_type": "code",
   "execution_count": 110,
   "metadata": {},
   "outputs": [],
   "source": [
    "df_domains = df_temp_domains.copy()\n",
    "\n",
    "# Allocation of domains (with 0 TRUST) by MIN(LEN)/2 Levenshtein distance\n",
    "# This step may produce FALSE POSITIVES, and < 30 trust should be \n",
    "# considered LOW TRUST. \n",
    "# ---\n",
    "# For the purpose of the dataset under testing there were no interesting \n",
    "# outputs and the code was disabled. \n",
    "\n",
    "while(False):                           # Remove this line to enable the code.\n",
    "    domains_1 = df_domains[df_domains.valid == True].index\n",
    "    domains_list_1 = list(domains_1)\n",
    "    domains_2 = df_domains[df_domains.trust == 0].index\n",
    "    domains_list_2 = list(domains_2)\n",
    "\n",
    "    contador = 0\n",
    "    for domain_2 in domains_list_2:\n",
    "        for domain_1 in domains_list_1:\n",
    "            distance = lev(domain_1, domain_2)\n",
    "            if df_domains.loc[domain_2].trust > 31-distance:     # (*) TRUST 2°\n",
    "                continue    # a better distance has been assigned\n",
    "            if distance < min(len(domain_1), len(domain_2)) / 2:\n",
    "                df_domains.loc[domain_2, 'valid_domain'] = domain_1\n",
    "                df_domains.loc[domain_2, 'trust'] = 31-distance  # (*) TRUST 1°\n",
    "                contador += 1\n",
    "                if (contador % 1000 == 0):\n",
    "                    print(contador, end=' - ')\n",
    "    print(contador)\n",
    "\n",
    "df_temp_domains = df_domains.copy()"
   ]
  },
  {
   "cell_type": "code",
   "execution_count": null,
   "metadata": {},
   "outputs": [],
   "source": [
    "df_domains = df_temp_domains.copy()\n",
    "df_mails = df_temp_mails.copy()\n",
    "\n",
    "# Merge Mails and Domains dfs\n",
    "\n",
    "df_mails = pd.merge(df_mails, df_domains, how='right', on=['domain'])\n",
    "df_mails.sort_values(by=['ID', 'ID_Mail'], inplace=True)\n",
    "\n",
    "df_temp_mails = df_mails.copy()\n",
    "\n",
    "# df_mails"
   ]
  },
  {
   "cell_type": "code",
   "execution_count": 112,
   "metadata": {},
   "outputs": [],
   "source": [
    "# Save data for the next batch process\n",
    "\n",
    "df_mails.to_csv('df_mails_batch1.csv')\n",
    "\n",
    "with open(\"dict_graph1.dat\", \"wb\") as outfile:\n",
    "    pickle.dump(dict_graph, outfile)"
   ]
  },
  {
   "cell_type": "code",
   "execution_count": 113,
   "metadata": {},
   "outputs": [
    {
     "data": {
      "text/plain": [
       "'2022-09-11 14:29:24.187843'"
      ]
     },
     "execution_count": 113,
     "metadata": {},
     "output_type": "execute_result"
    }
   ],
   "source": [
    "str(datetime.now())"
   ]
  }
 ],
 "metadata": {
  "kernelspec": {
   "display_name": "Python 3.8.13 ('dhdsblend2021')",
   "language": "python",
   "name": "python3"
  },
  "language_info": {
   "codemirror_mode": {
    "name": "ipython",
    "version": 3
   },
   "file_extension": ".py",
   "mimetype": "text/x-python",
   "name": "python",
   "nbconvert_exporter": "python",
   "pygments_lexer": "ipython3",
   "version": "3.8.13"
  },
  "vscode": {
   "interpreter": {
    "hash": "6fac5ffd6c629406722039d2fc7628b866755404253cff89471a36db4768999a"
   }
  }
 },
 "nbformat": 4,
 "nbformat_minor": 4
}
