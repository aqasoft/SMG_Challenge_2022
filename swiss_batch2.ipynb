{
 "cells": [
  {
   "cell_type": "markdown",
   "metadata": {},
   "source": [
    "# Second step SMG data analysis\n",
    "\n",
    "**Note:** Due to an unexpected behavior of jupyter notebooks, heavy calculation \n",
    "cells are excecuted a lot slower as the size of the notebook increases. Thus, \n",
    "the complete analysis is split into different batchs in order to reduce \n",
    "total excecution time."
   ]
  },
  {
   "cell_type": "markdown",
   "metadata": {},
   "source": [
    "#### A few notes:\n",
    "\n",
    "1. All markdown titles were kept as comments within each code cell.\n",
    "2. At the beginning and at the end of each cell a copy of the dataframe being \n",
    "modified is made in order to allow for several executions of that cell without \n",
    "running the previous part of the ipynb. \n",
    "3. Along the code some data is being stored separately in order to be used \n",
    "in Batch 5 for the plot graphs."
   ]
  },
  {
   "cell_type": "code",
   "execution_count": 75,
   "metadata": {},
   "outputs": [],
   "source": [
    "import pandas as pd\n",
    "import numpy as np\n",
    "import matplotlib as mpl\n",
    "import matplotlib.pyplot as plt \n",
    "plt.style.use('seaborn-colorblind')\n",
    "%matplotlib inline\n",
    "import seaborn as sns\n",
    "import regex as re\n",
    "from Levenshtein import distance as lev\n",
    "from concurrent.futures import ThreadPoolExecutor\n",
    "from dns import resolver\n",
    "import requests\n",
    "import threading\n",
    "from datetime import datetime\n",
    "import pickle\n",
    "\n",
    "# Omitir warnings\n",
    "import warnings\n",
    "warnings.filterwarnings('ignore')"
   ]
  },
  {
   "cell_type": "code",
   "execution_count": 76,
   "metadata": {},
   "outputs": [
    {
     "data": {
      "text/plain": [
       "'2022-09-11 14:30:02.178502'"
      ]
     },
     "execution_count": 76,
     "metadata": {},
     "output_type": "execute_result"
    }
   ],
   "source": [
    "str(datetime.now())"
   ]
  },
  {
   "cell_type": "code",
   "execution_count": 77,
   "metadata": {},
   "outputs": [
    {
     "data": {
      "text/plain": [
       "{'domains_total': 5309,\n",
       " 'domains_MX_false': 1146,\n",
       " 'domains_MX_true': 4163,\n",
       " 'domains_A_false': 992,\n",
       " 'domains_A_true': 4317,\n",
       " 'domains_spam_sink': 91,\n",
       " 'domains_known_sink': 11,\n",
       " 'domains_medium_trust': 595}"
      ]
     },
     "execution_count": 77,
     "metadata": {},
     "output_type": "execute_result"
    }
   ],
   "source": [
    "with open('dict_graph1.dat', 'rb') as handle:\n",
    "    data = handle.read()\n",
    "dict_temp_graph = pickle.loads(data)\n",
    "\n",
    "dict_temp_graph"
   ]
  },
  {
   "cell_type": "code",
   "execution_count": null,
   "metadata": {},
   "outputs": [],
   "source": [
    "df_temp_mails = pd.read_csv('df_mails_batch1.csv', index_col=[0])\n",
    "\n",
    "# df_temp_mails"
   ]
  },
  {
   "cell_type": "code",
   "execution_count": 79,
   "metadata": {},
   "outputs": [
    {
     "name": "stdout",
     "output_type": "stream",
     "text": [
      "+-+-+-+-+-+-+-+-+-+-+-+-+-+-+-+-+-+-+-+-+-+-+-+-+-+-+-+-+-+-+-+-+-+-+-+-+-+-+-+-+-+-+-+-+-+-+-+-+-+-+-+-+-+-+-+-+-+-+-+-+-+-+-+-+-+-+-+-+-+-+-+-+-+-+-+-+-+-+-+-+-+-+-+-+-+-+-+-+-+-+-+-+-+-+-+-+-+-+-+-+-+-+-+-+-+-+-+-+-+-+-+-+-+-+-+-+-+-+-+-+-+-+-+-+-+-+-+-+-+-+-+-+-+-+-+-+-+-+-+-+-+-+-+-+-+-+-+-+-+-+-+-+-+-+-+-+-+-+-+-+-+-+-+-+-+-+-+-+-+-+-+-+-+-+-+-+-+-+-+-+-+-+-+-+-+-+-+-+-+-+-+-+-+-+-+-+-+-+-+-+-+-+-+-+-+-+-+-+-+-+-+-+-+-+-+-+-+-+-+-+-+-+-+-+-+-+-+-+-+-+-+-+-+-+-+-+-+-+-+-+-+-+-+-+-+-+-+-+-+-+-+-+-+-+-+-+-+-+-+-+-+-+-+-+-+-+-+-+-+-+-+-+-+-+-+-+-+-+-+-+-+-+-+-+-+-+-+-+-+-+-+-+-+-+-+-+-+-+-+-+-+-+-+-+-+-+-+-+-+-+-+-+-+-+-+-+-+-+-+-+-+-+-+-"
     ]
    }
   ],
   "source": [
    "df_mails = df_temp_mails.copy()\n",
    "\n",
    "# Allocation of domains by client and (within client) by same user\n",
    "\n",
    "clients_unique = list(df_mails.ID.unique())\n",
    "\n",
    "for client in clients_unique:\n",
    "    df_aux = df_mails[df_mails['ID'] == client].copy(deep=False)\n",
    "    if df_aux.shape[0] < 2:\n",
    "        continue\n",
    "    for index_2 in df_aux.index:\n",
    "        domain_2 = df_aux.at[index_2, 'domain']\n",
    "        for index_1 in df_aux.index:\n",
    "            domain_1 = df_aux.at[index_1, 'domain']\n",
    "            if df_aux.at[index_1, 'valid'] == True and \\\n",
    "                    df_aux.at[index_1, 'user'] == df_aux.at[index_2, 'user']:\n",
    "                if domain_1 != domain_2:\n",
    "                    distance = lev(domain_1, domain_2)\n",
    "                    if df_mails.at[index_2, 'trust'] < 71-distance:\n",
    "                        df_mails.at[index_2, 'valid_domain'] = domain_1\n",
    "                        df_mails.at[index_2, 'trust'] = 71-distance\n",
    "                        print('+-', end='')\n",
    "\n",
    "df_temp_mails = df_mails.copy()"
   ]
  },
  {
   "cell_type": "code",
   "execution_count": 80,
   "metadata": {},
   "outputs": [
    {
     "data": {
      "text/plain": [
       "{'domains_total': 5309,\n",
       " 'domains_MX_false': 1146,\n",
       " 'domains_MX_true': 4163,\n",
       " 'domains_A_false': 992,\n",
       " 'domains_A_true': 4317,\n",
       " 'domains_spam_sink': 91,\n",
       " 'domains_known_sink': 11,\n",
       " 'domains_medium_trust': 595,\n",
       " 'domains_client_trust': 316}"
      ]
     },
     "execution_count": 80,
     "metadata": {},
     "output_type": "execute_result"
    }
   ],
   "source": [
    "dict_graph = dict_temp_graph.copy()\n",
    "\n",
    "# Store graph data\n",
    "\n",
    "mask = (df_mails.trust <= 70) & (df_mails.trust >= 41)\n",
    "\n",
    "dict_graph.update({'domains_client_trust':  mask.value_counts()[1]})\n",
    "\n",
    "dict_temp_graph = dict_graph.copy()\n",
    "dict_graph"
   ]
  },
  {
   "cell_type": "code",
   "execution_count": null,
   "metadata": {},
   "outputs": [],
   "source": [
    "df_mails = df_temp_mails.copy()\n",
    "\n",
    "# Ranking of users by client and (within client)\n",
    "#    user_trust = user count within client\n",
    "# 1. It assumes that a user with a higher user_trust is more likely\n",
    "#    to be correct when it is compared to a similar user (within a client).\n",
    "# 2. If there is only one user of a kind for one client, its trust is 1. \n",
    "#    This does not imply that the user is incorrect, though it is likely if \n",
    "#    there are similar users for that client with a higher user_trust.\n",
    "# 3. There are users that are at Levenshtein distance of 1 which are \n",
    "#    both valid, so it cannot be assumed that a user_trust = 1 means\n",
    "#    an incorrect user. \n",
    "\n",
    "df_mails['user_trust'] = 0\n",
    "\n",
    "clients_unique = list(df_mails.ID.unique())\n",
    "\n",
    "print('Wait...')\n",
    "for client in clients_unique:\n",
    "    df_aux = df_mails[df_mails['ID'] == client].copy(deep=False)\n",
    "    for index_2 in df_aux.index:\n",
    "        for index_1 in df_aux.index:\n",
    "            if df_aux.at[index_1, 'user'] == df_aux.at[index_2, 'user'] and \\\n",
    "                    index_1 != index_2:\n",
    "                count = df_mails.at[index_1, 'user_trust'] + 1\n",
    "                df_mails.at[index_1, 'user_trust'] = count\n",
    "                df_mails.at[index_2, 'user_trust'] = count\n",
    "\n",
    "mask = (df_mails['user_trust'] == 0)\n",
    "df_mails['user_trust'].mask(mask, 1, inplace=True)\n",
    "print('Done!')\n",
    "\n",
    "df_temp_mails = df_mails.copy()\n",
    "\n",
    "# df_mails"
   ]
  },
  {
   "cell_type": "code",
   "execution_count": null,
   "metadata": {},
   "outputs": [],
   "source": [
    "df_mails = df_temp_mails.copy()\n",
    "\n",
    "# Render the recommended email to use for each provided mail\n",
    "\n",
    "mask = (df_mails.trust != 0)\n",
    "# mask\n",
    "df_mails.loc[~mask, 'email_to_use'] = '---'\n",
    "df_mails.loc[mask, 'email_to_use'] = df_mails['user'] + '@' + df_mails['valid_domain']\n",
    "\n",
    "df_temp_mails = df_mails.copy()\n",
    "\n",
    "# df_mails"
   ]
  },
  {
   "cell_type": "code",
   "execution_count": 84,
   "metadata": {},
   "outputs": [
    {
     "data": {
      "text/plain": [
       "{'domains_total': 5309,\n",
       " 'domains_MX_false': 1146,\n",
       " 'domains_MX_true': 4163,\n",
       " 'domains_A_false': 992,\n",
       " 'domains_A_true': 4317,\n",
       " 'domains_spam_sink': 91,\n",
       " 'domains_known_sink': 11,\n",
       " 'domains_medium_trust': 595,\n",
       " 'domains_client_trust': 316,\n",
       " 'users_total': 137513,\n",
       " 'users_unique': 99917,\n",
       " 'users_trust_eq1': 82681,\n",
       " 'users_null': 456}"
      ]
     },
     "execution_count": 84,
     "metadata": {},
     "output_type": "execute_result"
    }
   ],
   "source": [
    "dict_graph = dict_temp_graph.copy()\n",
    "\n",
    "# Store graph data\n",
    "\n",
    "dict_graph.update({'users_total':  len(df_mails.user)})\n",
    "dict_graph.update({'users_unique':  len(df_mails.user.unique())})\n",
    "\n",
    "mask = (df_mails.user_trust == 1) \n",
    "dict_graph.update({'users_trust_eq1':  mask.value_counts()[1]})\n",
    "\n",
    "mask = (df_mails.email_to_use == '---') \n",
    "dict_graph.update({'emails_null':  mask.value_counts()[1]})\n",
    "\n",
    "dict_temp_graph = dict_graph.copy()\n",
    "\n",
    "dict_graph"
   ]
  },
  {
   "cell_type": "code",
   "execution_count": null,
   "metadata": {},
   "outputs": [],
   "source": [
    "df_mails = df_temp_mails.copy()\n",
    "\n",
    "# Render the contactability to evaluate for each provided mail\n",
    "\n",
    "df_mails['contactability'] = df_mails['user_trust'].astype(str) + ' @ ' + df_mails['trust'].astype(str)\n",
    "\n",
    "df_temp_mails = df_mails.copy()\n",
    "\n",
    "# df_mails"
   ]
  },
  {
   "cell_type": "code",
   "execution_count": 86,
   "metadata": {},
   "outputs": [],
   "source": [
    "# Save data for the next batch process\n",
    "\n",
    "df_mails.to_csv('df_mails_final.csv')\n",
    "\n",
    "with open(\"dict_graph2.dat\", \"wb\") as outfile:\n",
    "    pickle.dump(dict_graph, outfile)"
   ]
  },
  {
   "cell_type": "code",
   "execution_count": 87,
   "metadata": {},
   "outputs": [
    {
     "data": {
      "text/plain": [
       "'2022-09-11 14:32:45.262170'"
      ]
     },
     "execution_count": 87,
     "metadata": {},
     "output_type": "execute_result"
    }
   ],
   "source": [
    "str(datetime.now())"
   ]
  }
 ],
 "metadata": {
  "kernelspec": {
   "display_name": "Python 3.10.6 64-bit (system)",
   "language": "python",
   "name": "python3"
  },
  "language_info": {
   "codemirror_mode": {
    "name": "ipython",
    "version": 3
   },
   "file_extension": ".py",
   "mimetype": "text/x-python",
   "name": "python",
   "nbconvert_exporter": "python",
   "pygments_lexer": "ipython3",
   "version": "3.10.6"
  },
  "orig_nbformat": 4,
  "vscode": {
   "interpreter": {
    "hash": "2a8dfe095fce2b5e88c64a2c3ee084c8e0e0d70b23e7b95b1cfb538be294c5c8"
   }
  }
 },
 "nbformat": 4,
 "nbformat_minor": 2
}
